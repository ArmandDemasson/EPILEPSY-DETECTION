{
 "cells": [
  {
   "cell_type": "code",
   "execution_count": 1,
   "id": "fcd782d6-9983-4fea-bd6a-b7fd4571cc73",
   "metadata": {},
   "outputs": [],
   "source": [
    "import numpy as np\n",
    "import pandas as pd\n",
    "import os.path as op\n",
    "from sklearn.feature_selection import SelectKBest, chi2\n",
    "import pickle\n",
    "from scipy.fft import fft, fftfreq\n",
    "from tqdm import tqdm"
   ]
  },
  {
   "cell_type": "code",
   "execution_count": 2,
   "id": "ab41fba5-9456-42b5-a392-56f6e9310151",
   "metadata": {},
   "outputs": [],
   "source": [
    "def load_obj(name, path):\n",
    "    with open(op.join(path, name), 'rb') as f:\n",
    "        return pickle.load(f)"
   ]
  },
  {
   "cell_type": "code",
   "execution_count": 3,
   "id": "9c6a4e88-03c6-4a35-a1d7-a33350b8cb8c",
   "metadata": {},
   "outputs": [
    {
     "data": {
      "text/plain": [
       "(24912,)"
      ]
     },
     "execution_count": 3,
     "metadata": {},
     "output_type": "execute_result"
    }
   ],
   "source": [
    "load_obj(\"modelling_balanced_agregated_feature.pkl\",\"/sps/crnl/ademasson/data/features_extraction\")['agr_test_cv_1'].shape"
   ]
  },
  {
   "cell_type": "code",
   "execution_count": 4,
   "id": "4d46a2aa-2991-4c80-9432-7ecaad5f443e",
   "metadata": {},
   "outputs": [],
   "source": [
    "results = load_obj(\"modelling_balanced_agregated_feature.pkl\",\"/sps/crnl/ademasson/data/features_extraction\")\n"
   ]
  },
  {
   "cell_type": "code",
   "execution_count": 5,
   "id": "a0be8ff8-ac96-4849-beb4-4084f6ee5bfb",
   "metadata": {},
   "outputs": [
    {
     "data": {
      "text/plain": [
       "['agr_test_cv_0',\n",
       " 'agr_test_cv_1',\n",
       " 'agr_test_cv_2',\n",
       " 'agr_test_cv_3',\n",
       " 'agr_test_cv_4']"
      ]
     },
     "execution_count": 5,
     "metadata": {},
     "output_type": "execute_result"
    }
   ],
   "source": [
    "test_columns = [col for col in results.keys() if col.startswith('agr_test_')]\n",
    "test_columns"
   ]
  },
  {
   "cell_type": "code",
   "execution_count": 6,
   "id": "1d81f48b-ccdf-4fe2-8e41-2f6b424eb593",
   "metadata": {},
   "outputs": [
    {
     "data": {
      "text/plain": [
       "['agr_pred_cv_0',\n",
       " 'agr_pred_cv_1',\n",
       " 'agr_pred_cv_2',\n",
       " 'agr_pred_cv_3',\n",
       " 'agr_pred_cv_4']"
      ]
     },
     "execution_count": 6,
     "metadata": {},
     "output_type": "execute_result"
    }
   ],
   "source": [
    "pred_columns = [col for col in results.keys() if col.startswith('agr_pred_')]\n",
    "pred_columns"
   ]
  },
  {
   "cell_type": "code",
   "execution_count": 7,
   "id": "a4b25f2b-050c-4457-8bff-4f3baa24f067",
   "metadata": {},
   "outputs": [],
   "source": [
    "from sklearn.metrics import classification_report\n",
    "from sklearn.metrics import confusion_matrix"
   ]
  },
  {
   "cell_type": "code",
   "execution_count": 8,
   "id": "aa990c64-8d89-4236-9956-858adb0866a6",
   "metadata": {},
   "outputs": [
    {
     "name": "stdout",
     "output_type": "stream",
     "text": [
      "24912\n",
      "CV 1\n",
      "0.975229831628964\n",
      "0.15503875968992245\n",
      "24912\n",
      "CV 2\n",
      "0.9850758457361017\n",
      "0.132858837485172\n",
      "24912\n",
      "CV 3\n",
      "0.986363914310756\n",
      "0.12319790301441677\n",
      "24912\n",
      "CV 4\n",
      "0.9891726085278403\n",
      "0.10720268006700168\n",
      "24912\n",
      "CV 5\n",
      "0.9696592371228158\n",
      "0.10744810744810744\n"
     ]
    }
   ],
   "source": [
    "ncv = 1\n",
    "for test, pred in zip(test_columns, pred_columns):\n",
    "    print(len(results[pred]))\n",
    "    print(f\"CV {ncv}\")\n",
    "#     print(confusion_matrix(results[test], results[pred]))\n",
    "    print(classification_report(results[test], results[pred],output_dict=True)['False']['f1-score'])\n",
    "    print(classification_report(results[test], results[pred],output_dict=True)['True']['f1-score'])\n",
    "    ncv +=1"
   ]
  },
  {
   "cell_type": "code",
   "execution_count": null,
   "id": "9e1bb195-1495-4748-b92d-663c3ccb9c9a",
   "metadata": {},
   "outputs": [],
   "source": []
  }
 ],
 "metadata": {
  "kernelspec": {
   "display_name": "Python 3 (ipykernel)",
   "language": "python",
   "name": "python3"
  },
  "language_info": {
   "codemirror_mode": {
    "name": "ipython",
    "version": 3
   },
   "file_extension": ".py",
   "mimetype": "text/x-python",
   "name": "python",
   "nbconvert_exporter": "python",
   "pygments_lexer": "ipython3",
   "version": "3.8.5"
  }
 },
 "nbformat": 4,
 "nbformat_minor": 5
}
