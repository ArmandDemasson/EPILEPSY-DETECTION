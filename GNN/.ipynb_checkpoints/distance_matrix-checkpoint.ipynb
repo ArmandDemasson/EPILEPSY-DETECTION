{
 "cells": [
  {
   "cell_type": "code",
   "execution_count": 1,
   "id": "77d0798f-c8a8-41ca-a693-92e820c06ba5",
   "metadata": {},
   "outputs": [],
   "source": [
    "import math\n",
    "from itertools import product\n",
    "\n",
    "import random\n",
    "import params\n",
    "import numpy as np\n",
    "import pandas as pd\n",
    "import pickle\n",
    "import matplotlib.pyplot as plt"
   ]
  },
  {
   "cell_type": "code",
   "execution_count": 2,
   "id": "a8554602-0b89-4132-b998-29c22f352549",
   "metadata": {},
   "outputs": [],
   "source": [
    "def load_obj(name, path):\n",
    "    with open(path+ name, 'rb') as f:\n",
    "        return pickle.load(f)"
   ]
  },
  {
   "cell_type": "code",
   "execution_count": 3,
   "id": "d3742288-024a-4b7e-9605-80f5003cd879",
   "metadata": {},
   "outputs": [],
   "source": [
    "distances = load_obj('dist_matrix.pkl', \"\")"
   ]
  },
  {
   "cell_type": "code",
   "execution_count": 4,
   "id": "aea9e298-c638-44c1-b7b3-bb3b1541ea74",
   "metadata": {},
   "outputs": [
    {
     "data": {
      "text/plain": [
       "75076"
      ]
     },
     "execution_count": 4,
     "metadata": {},
     "output_type": "execute_result"
    }
   ],
   "source": [
    "len(distances)"
   ]
  },
  {
   "cell_type": "code",
   "execution_count": 5,
   "id": "932dc4bb-236a-4f4e-862f-bffac0eaeb2e",
   "metadata": {},
   "outputs": [],
   "source": [
    "ch_names = [ 'MLC11-2805', 'MLC12-2805', 'MLC13-2805', 'MLC14-2805', 'MLC15-2805', 'MLC16-2805', 'MLC17-2805', 'MLC21-2805', 'MLC22-2805', 'MLC23-2805', 'MLC24-2805', 'MLC25-2805', 'MLC31-2805', 'MLC32-2805', 'MLC41-2805', 'MLC42-2805', 'MLC51-2805', 'MLC52-2805', 'MLC53-2805', 'MLC54-2805', 'MLC55-2805', 'MLC61-2805', 'MLC62-2805', 'MLC63-2805', 'MLF11-2805', 'MLF12-2805', 'MLF13-2805', 'MLF14-2805', 'MLF21-2805', 'MLF22-2805', 'MLF23-2805', 'MLF24-2805', 'MLF25-2805', 'MLF31-2805', 'MLF32-2805', 'MLF33-2805', 'MLF34-2805', 'MLF35-2805', 'MLF41-2805', 'MLF42-2805', 'MLF43-2805', 'MLF44-2805', 'MLF45-2805', 'MLF46-2805', 'MLF51-2805', 'MLF52-2805', 'MLF53-2805', 'MLF54-2805', 'MLF55-2805', 'MLF56-2805', 'MLF61-2805', 'MLF62-2805', 'MLF63-2805', 'MLF64-2805', 'MLF65-2805', 'MLF66-2805', 'MLF67-2805', 'MLO11-2805', 'MLO12-2805', 'MLO13-2805', 'MLO14-2805', 'MLO21-2805', 'MLO22-2805', 'MLO23-2805', 'MLO24-2805', 'MLO31-2805', 'MLO32-2805', 'MLO33-2805', 'MLO34-2805', 'MLO41-2805', 'MLO42-2805', 'MLO43-2805', 'MLO44-2805', 'MLO51-2805', 'MLO52-2805', 'MLO53-2805', 'MLP11-2805', 'MLP12-2805', 'MLP21-2805', 'MLP22-2805', 'MLP23-2805', 'MLP31-2805', 'MLP32-2805', 'MLP33-2805', 'MLP34-2805', 'MLP35-2805', 'MLP41-2805', 'MLP42-2805', 'MLP43-2805', 'MLP44-2805', 'MLP45-2805', 'MLP51-2805', 'MLP52-2805', 'MLP53-2805', 'MLP54-2805', 'MLP55-2805', 'MLP56-2805', 'MLP57-2805', 'MLT11-2805', 'MLT12-2805', 'MLT13-2805', 'MLT14-2805', 'MLT15-2805', 'MLT16-2805', 'MLT21-2805', 'MLT22-2805', 'MLT23-2805', 'MLT24-2805', 'MLT25-2805', 'MLT26-2805', 'MLT27-2805', 'MLT31-2805', 'MLT32-2805', 'MLT33-2805', 'MLT34-2805', 'MLT35-2805', 'MLT36-2805', 'MLT37-2805', 'MLT41-2805', 'MLT42-2805', 'MLT43-2805', 'MLT44-2805', 'MLT45-2805', 'MLT46-2805', 'MLT47-2805', 'MLT51-2805', 'MLT52-2805', 'MLT53-2805', 'MLT54-2805', 'MLT55-2805', 'MLT56-2805', 'MLT57-2805', 'MRC11-2805', 'MRC12-2805', 'MRC13-2805', 'MRC14-2805', 'MRC15-2805', 'MRC16-2805', 'MRC17-2805', 'MRC21-2805', 'MRC22-2805', 'MRC23-2805', 'MRC24-2805', 'MRC25-2805', 'MRC31-2805', 'MRC32-2805', 'MRC41-2805', 'MRC42-2805', 'MRC51-2805', 'MRC52-2805', 'MRC53-2805', 'MRC54-2805', 'MRC55-2805', 'MRC61-2805', 'MRC62-2805', 'MRC63-2805', 'MRF11-2805', 'MRF12-2805', 'MRF13-2805', 'MRF14-2805', 'MRF21-2805', 'MRF22-2805', 'MRF23-2805', 'MRF24-2805', 'MRF25-2805', 'MRF31-2805', 'MRF32-2805', 'MRF33-2805', 'MRF34-2805', 'MRF35-2805', 'MRF41-2805', 'MRF42-2805', 'MRF43-2805', 'MRF44-2805', 'MRF45-2805', 'MRF46-2805', 'MRF51-2805', 'MRF52-2805', 'MRF53-2805', 'MRF54-2805', 'MRF55-2805', 'MRF56-2805', 'MRF61-2805', 'MRF62-2805', 'MRF63-2805', 'MRF64-2805', 'MRF65-2805', 'MRF66-2805', 'MRF67-2805', 'MRO11-2805', 'MRO12-2805', 'MRO13-2805', 'MRO14-2805', 'MRO21-2805', 'MRO22-2805', 'MRO23-2805', 'MRO24-2805', 'MRO31-2805', 'MRO32-2805', 'MRO33-2805', 'MRO34-2805', 'MRO41-2805', 'MRO42-2805', 'MRO43-2805', 'MRO44-2805', 'MRO51-2805', 'MRO52-2805', 'MRO53-2805', 'MRP11-2805', 'MRP12-2805', 'MRP21-2805', 'MRP22-2805', 'MRP23-2805', 'MRP31-2805', 'MRP32-2805', 'MRP33-2805', 'MRP34-2805', 'MRP35-2805', 'MRP41-2805', 'MRP42-2805', 'MRP43-2805', 'MRP44-2805', 'MRP45-2805', 'MRP51-2805', 'MRP53-2805', 'MRP54-2805', 'MRP55-2805', 'MRP56-2805', 'MRP57-2805', 'MRT11-2805', 'MRT12-2805', 'MRT13-2805', 'MRT14-2805', 'MRT15-2805', 'MRT16-2805', 'MRT21-2805', 'MRT22-2805', 'MRT23-2805', 'MRT24-2805', 'MRT25-2805', 'MRT26-2805', 'MRT27-2805', 'MRT31-2805', 'MRT32-2805','MRT33-2805','MRT34-2805','MRT35-2805','MRT36-2805','MRT37-2805','MRT41-2805','MRT42-2805','MRT43-2805','MRT44-2805','MRT45-2805','MRT46-2805','MRT47-2805','MRT51-2805','MRT52-2805','MRT53-2805','MRT54-2805','MRT55-2805','MRT56-2805','MRT57-2805','MZC01-2805','MZC02-2805','MZC03-2805','MZC04-2805','MZF01-2805','MZF02-2805','MZF03-2805','MZO01-2805','MZO02-2805','MZO03-2805','MZP01-2805']"
   ]
  },
  {
   "cell_type": "code",
   "execution_count": 6,
   "id": "d88ffb7c-bc84-4670-8054-a64892d22827",
   "metadata": {},
   "outputs": [],
   "source": [
    "node_ids = np.arange(len(ch_names))\n",
    "edge_index = np.array(\n",
    "    [[a, b] for a, b in product(node_ids, node_ids)],\n",
    "    dtype=np.int64,\n",
    ").T"
   ]
  },
  {
   "cell_type": "code",
   "execution_count": 7,
   "id": "11802c28-c62b-47b5-94e9-a87d54adc125",
   "metadata": {},
   "outputs": [
    {
     "data": {
      "text/plain": [
       "array([  0,   1,   2,   3,   4,   5,   6,   7,   8,   9,  10,  11,  12,\n",
       "        13,  14,  15,  16,  17,  18,  19,  20,  21,  22,  23,  24,  25,\n",
       "        26,  27,  28,  29,  30,  31,  32,  33,  34,  35,  36,  37,  38,\n",
       "        39,  40,  41,  42,  43,  44,  45,  46,  47,  48,  49,  50,  51,\n",
       "        52,  53,  54,  55,  56,  57,  58,  59,  60,  61,  62,  63,  64,\n",
       "        65,  66,  67,  68,  69,  70,  71,  72,  73,  74,  75,  76,  77,\n",
       "        78,  79,  80,  81,  82,  83,  84,  85,  86,  87,  88,  89,  90,\n",
       "        91,  92,  93,  94,  95,  96,  97,  98,  99, 100, 101, 102, 103,\n",
       "       104, 105, 106, 107, 108, 109, 110, 111, 112, 113, 114, 115, 116,\n",
       "       117, 118, 119, 120, 121, 122, 123, 124, 125, 126, 127, 128, 129,\n",
       "       130, 131, 132, 133, 134, 135, 136, 137, 138, 139, 140, 141, 142,\n",
       "       143, 144, 145, 146, 147, 148, 149, 150, 151, 152, 153, 154, 155,\n",
       "       156, 157, 158, 159, 160, 161, 162, 163, 164, 165, 166, 167, 168,\n",
       "       169, 170, 171, 172, 173, 174, 175, 176, 177, 178, 179, 180, 181,\n",
       "       182, 183, 184, 185, 186, 187, 188, 189, 190, 191, 192, 193, 194,\n",
       "       195, 196, 197, 198, 199, 200, 201, 202, 203, 204, 205, 206, 207,\n",
       "       208, 209, 210, 211, 212, 213, 214, 215, 216, 217, 218, 219, 220,\n",
       "       221, 222, 223, 224, 225, 226, 227, 228, 229, 230, 231, 232, 233,\n",
       "       234, 235, 236, 237, 238, 239, 240, 241, 242, 243, 244, 245, 246,\n",
       "       247, 248, 249, 250, 251, 252, 253, 254, 255, 256, 257, 258, 259,\n",
       "       260, 261, 262, 263, 264, 265, 266, 267, 268, 269, 270, 271, 272,\n",
       "       273])"
      ]
     },
     "execution_count": 7,
     "metadata": {},
     "output_type": "execute_result"
    }
   ],
   "source": [
    "node_ids"
   ]
  },
  {
   "cell_type": "code",
   "execution_count": 8,
   "id": "9c0b3a66-f14c-4493-b36b-a83d19c50dbb",
   "metadata": {},
   "outputs": [
    {
     "data": {
      "text/plain": [
       "(2, 75076)"
      ]
     },
     "execution_count": 8,
     "metadata": {},
     "output_type": "execute_result"
    }
   ],
   "source": [
    "edge_index.shape"
   ]
  },
  {
   "cell_type": "code",
   "execution_count": 9,
   "id": "1dd1b246-819f-47c2-b3b6-6b00c9f9b69d",
   "metadata": {},
   "outputs": [],
   "source": [
    "dist_min, dist_max = np.min(distances), np.max(distances)\n",
    "normalized_distances = 1 - ((distances - dist_min) / (dist_max - dist_min))\n",
    "distances = normalized_distances"
   ]
  },
  {
   "cell_type": "code",
   "execution_count": 10,
   "id": "8e63cb6d-e7ca-4f64-99e9-79b15c5a6e54",
   "metadata": {},
   "outputs": [
    {
     "data": {
      "text/plain": [
       "(75076,)"
      ]
     },
     "execution_count": 10,
     "metadata": {},
     "output_type": "execute_result"
    }
   ],
   "source": [
    "distances.shape"
   ]
  },
  {
   "cell_type": "code",
   "execution_count": 11,
   "id": "a743198c-2d5a-4f29-9121-1f8ef6a486e0",
   "metadata": {},
   "outputs": [],
   "source": [
    "mask = distances > 0.9\n",
    "distances = distances[mask]\n",
    "edge_index = edge_index[:, mask]"
   ]
  },
  {
   "cell_type": "code",
   "execution_count": 12,
   "id": "c916a729-931b-4b54-b30e-ce32666ddcad",
   "metadata": {},
   "outputs": [
    {
     "data": {
      "text/plain": [
       "(2, 12110)"
      ]
     },
     "execution_count": 12,
     "metadata": {},
     "output_type": "execute_result"
    }
   ],
   "source": [
    "edge_index.shape"
   ]
  },
  {
   "cell_type": "code",
   "execution_count": 13,
   "id": "b427c586-0cb1-4387-9737-eedfe30288fc",
   "metadata": {},
   "outputs": [
    {
     "ename": "ModuleNotFoundError",
     "evalue": "No module named 'networkx'",
     "output_type": "error",
     "traceback": [
      "\u001b[0;31m---------------------------------------------------------------------------\u001b[0m",
      "\u001b[0;31mModuleNotFoundError\u001b[0m                       Traceback (most recent call last)",
      "Cell \u001b[0;32mIn[13], line 1\u001b[0m\n\u001b[0;32m----> 1\u001b[0m \u001b[38;5;28;01mimport\u001b[39;00m \u001b[38;5;21;01mnetworkx\u001b[39;00m \u001b[38;5;28;01mas\u001b[39;00m \u001b[38;5;21;01mnx\u001b[39;00m\n",
      "\u001b[0;31mModuleNotFoundError\u001b[0m: No module named 'networkx'"
     ]
    }
   ],
   "source": [
    "import networkx as nx"
   ]
  },
  {
   "cell_type": "code",
   "execution_count": null,
   "id": "4cd6f9ef-5876-47b7-b10e-1d4998d39e71",
   "metadata": {},
   "outputs": [],
   "source": [
    "for i in range(edge_index.shape[1]):\n",
    "    node1 = edge_index[0, i]\n",
    "    node2 = edge_index[1, i]\n",
    "    distance = distances[i]\n",
    "    G.add_edge(node1, node2, weight=distance)"
   ]
  },
  {
   "cell_type": "code",
   "execution_count": null,
   "id": "4a7aefb5-cf95-4355-b177-ce17acc42e27",
   "metadata": {},
   "outputs": [],
   "source": [
    "matrix = distances.reshape((274,274))"
   ]
  },
  {
   "cell_type": "code",
   "execution_count": null,
   "id": "1ec261de-c5ee-4ed9-b492-dfcbef58dbb5",
   "metadata": {},
   "outputs": [],
   "source": [
    "matrix"
   ]
  },
  {
   "cell_type": "code",
   "execution_count": null,
   "id": "243783ff-f100-4fab-b2de-3b6b5ff5d4ac",
   "metadata": {},
   "outputs": [],
   "source": [
    "plt.figure(figsize=(30,20))\n",
    "sns.heatmap(matrix, cmap='coolwarm')"
   ]
  },
  {
   "cell_type": "code",
   "execution_count": null,
   "id": "052894e5-82c4-49a4-86c7-e3d926cc4324",
   "metadata": {},
   "outputs": [],
   "source": [
    "import networkx as nx"
   ]
  },
  {
   "cell_type": "code",
   "execution_count": null,
   "id": "856ef031-fedb-426e-99fb-d0f750687f86",
   "metadata": {},
   "outputs": [],
   "source": [
    "G = nx.Graph()\n",
    "for i in range(274):\n",
    "    G.add_node(i)"
   ]
  },
  {
   "cell_type": "code",
   "execution_count": null,
   "id": "0e0fd104-d1c3-45ce-85ab-92c19234abd9",
   "metadata": {},
   "outputs": [],
   "source": [
    "num_edges = edge_index.shape[1]\n",
    "for idx in range(num_edges):\n",
    "    u = edge_index[0, idx]\n",
    "    v = edge_index[1, idx]\n",
    "    distance = distances[idx]\n",
    "    G.add_edge(u, v, weight=distance)"
   ]
  },
  {
   "cell_type": "code",
   "execution_count": null,
   "id": "10012fcb-5f57-4320-9600-e6a0fe8b476a",
   "metadata": {},
   "outputs": [],
   "source": [
    "midpoint = 274 // 2\n",
    "left_nodes = list(range(midpoint))\n",
    "right_nodes = list(range(midpoint, 274))"
   ]
  },
  {
   "cell_type": "code",
   "execution_count": null,
   "id": "44aed83d-9149-422a-ba4e-9d42aee18dcd",
   "metadata": {},
   "outputs": [],
   "source": [
    "plt.figure(figsize=(30, 20))\n",
    "nx.draw_networkx(G, node_color='blue', node_size=20)"
   ]
  },
  {
   "cell_type": "code",
   "execution_count": null,
   "id": "e42f3f78-78c5-4ed6-b8ef-c8065caf81da",
   "metadata": {},
   "outputs": [],
   "source": []
  }
 ],
 "metadata": {
  "kernelspec": {
   "display_name": "Python 3 (ipykernel)",
   "language": "python",
   "name": "python3"
  },
  "language_info": {
   "codemirror_mode": {
    "name": "ipython",
    "version": 3
   },
   "file_extension": ".py",
   "mimetype": "text/x-python",
   "name": "python",
   "nbconvert_exporter": "python",
   "pygments_lexer": "ipython3",
   "version": "3.8.5"
  }
 },
 "nbformat": 4,
 "nbformat_minor": 5
}
